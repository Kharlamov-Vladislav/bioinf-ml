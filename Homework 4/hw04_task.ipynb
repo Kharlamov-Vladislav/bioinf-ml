{
 "cells": [
  {
   "cell_type": "markdown",
   "metadata": {},
   "source": [
    "# Случайные леса\n",
    "__Суммарное количество баллов: 10__\n",
    "\n",
    "В этом задании вам предстоит реализовать ансамбль деревьев решений, известный как случайный лес, применить его к публичным данным и сравнить его эффективность с ансамблем, предоставляемым библиотекой CatBoost."
   ]
  },
  {
   "cell_type": "code",
   "execution_count": 1,
   "metadata": {},
   "outputs": [],
   "source": [
    "from itertools import product\n",
    "from sklearn.model_selection import train_test_split, cross_validate\n",
    "from sklearn.utils import resample\n",
    "from sklearn.metrics import roc_auc_score, roc_curve, accuracy_score\n",
    "from sklearn.tree import DecisionTreeClassifier\n",
    "from sklearn import preprocessing\n",
    "from catboost import CatBoostClassifier\n",
    "import numpy as np\n",
    "import pandas as pd\n",
    "import random\n",
    "import matplotlib.pyplot as plt\n",
    "import matplotlib\n",
    "import copy\n",
    "import seaborn as sns\n",
    "iris = sns.load_dataset('iris')"
   ]
  },
  {
   "cell_type": "markdown",
   "metadata": {},
   "source": [
    "### Задание 1 (3 балла)\n",
    "Реализуем сам Random Forest. Идея очень простая: строим `n` деревьев, а затем берем модальное предсказание.\n",
    "\n",
    "#### Параметры конструктора\n",
    "`n_estimators` - количество используемых для предсказания деревьев.\n",
    "\n",
    "Остальное - параметры деревьев.\n",
    "\n",
    "#### Методы\n",
    "`fit(X, y)` - строит `n_estimators` деревьев по выборке `X`.\n",
    "\n",
    "`predict(X)` - для каждого элемента выборки `X` возвращает самый частый класс, который предсказывают для него деревья."
   ]
  },
  {
   "cell_type": "code",
   "execution_count": 2,
   "metadata": {},
   "outputs": [],
   "source": [
    "class RandomForestClassifier:\n",
    "    def __init__(self, criterion=\"gini\", max_depth=None, min_samples_leaf=1, max_features=\"auto\", n_estimators=10):\n",
    "        self.criterion = criterion\n",
    "        self.max_depth = max_depth\n",
    "        self.min_samples_leaf = min_samples_leaf\n",
    "        self.max_features = max_features\n",
    "        self.n_estimators = n_estimators\n",
    "        self._trees = []\n",
    "        self.encoder = None\n",
    "        self.oob = []\n",
    "        self.oob_j = {}\n",
    "    def fit(self, X, y):\n",
    "        X = pd.DataFrame(X)\n",
    "        y = pd.Series(y)\n",
    "        y_index = y.index\n",
    "        self.encoder = preprocessing.LabelEncoder()\n",
    "        y = pd.Series(self.encoder.fit_transform(y))\n",
    "        y.index = y_index\n",
    "        \n",
    "        for n in range(self.n_estimators):\n",
    "            tree = DecisionTreeClassifier(criterion=self.criterion, min_samples_leaf=self.min_samples_leaf, \n",
    "                                                      max_depth=self.max_depth, max_features=self.max_features)\n",
    "            X_fit, y_fit = resample(X, y)\n",
    "            tree.fit(X_fit, y_fit)\n",
    "            self._trees.append(tree)\n",
    "            \n",
    "            oob_index = list(set(X.index) - set(X_fit.index))\n",
    "            \n",
    "            self.oob.append(accuracy_score(y[oob_index], tree.predict(X.loc[oob_index])))\n",
    "            for feature in X.columns:\n",
    "                X_oob = X.loc[oob_index].copy()\n",
    "                X_oob[feature] = np.array(resample(X_oob[feature]))\n",
    "                if feature not in self.oob_j:\n",
    "                    self.oob_j[feature] = [accuracy_score(y[oob_index], tree.predict(X_oob))]\n",
    "                else:\n",
    "                    self.oob_j[feature].append(self.oob[-1] - accuracy_score(y[oob_index], tree.predict(X_oob)))\n",
    "    def predict(self, X):\n",
    "        answer = []\n",
    "        x_ans = np.zeros((len(X), len(self.encoder.classes_)))\n",
    "        for tree in self._trees:\n",
    "            x_ans += tree.predict_proba(X)\n",
    "        return self.encoder.inverse_transform([np.argmax(elem) for elem in x_ans])\n",
    "    \n",
    "    @property\n",
    "    def feature_importance(self):\n",
    "        tempory = {}\n",
    "        for key in self.oob_j:\n",
    "            tempory[key] = sum(self.oob_j[key]) / len(self.oob_j[key])\n",
    "        return sorted(list(tempory.items()), key=lambda x: x[1], reverse=True)"
   ]
  },
  {
   "cell_type": "markdown",
   "metadata": {},
   "source": [
    "### Задание 3 (3 балла)\n",
    "Оптимизируйте по AUC на кроссвалидации (размер валидационной выборки - 20%) параметры своей реализации Random Forest: \n",
    "\n",
    "максимальную глубину деревьев из [2, 3, 5, 7, 10], количество деревьев из [5, 10, 20, 30, 50, 100]. \n",
    "\n",
    "Постройте ROC кривую (и выведите AUC и accuracy) для лучшего варианта.\n",
    "\n",
    "Подсказка: можно построить сразу 100 деревьев глубины 10, а потом убирать деревья и\n",
    "глубину."
   ]
  },
  {
   "cell_type": "code",
   "execution_count": 308,
   "metadata": {
    "scrolled": true
   },
   "outputs": [
    {
     "name": "stdout",
     "output_type": "stream",
     "text": [
      "Wall time: 6.31 s\n"
     ]
    },
    {
     "data": {
      "text/plain": [
       "{(('max_depth', 2), ('n_estimators', 5)): 0.9265700483091787,\n",
       " (('max_depth', 2), ('n_estimators', 10)): 0.929951690821256,\n",
       " (('max_depth', 2), ('n_estimators', 20)): 0.9154589371980676,\n",
       " (('max_depth', 2), ('n_estimators', 30)): 0.9265700483091787,\n",
       " (('max_depth', 2), ('n_estimators', 50)): 0.9082125603864735,\n",
       " (('max_depth', 2), ('n_estimators', 100)): 0.9265700483091787,\n",
       " (('max_depth', 3), ('n_estimators', 5)): 0.9193236714975845,\n",
       " (('max_depth', 3), ('n_estimators', 10)): 0.9338164251207729,\n",
       " (('max_depth', 3), ('n_estimators', 20)): 0.9193236714975845,\n",
       " (('max_depth', 3), ('n_estimators', 30)): 0.929951690821256,\n",
       " (('max_depth', 3), ('n_estimators', 50)): 0.9265700483091787,\n",
       " (('max_depth', 3), ('n_estimators', 100)): 0.9154589371980676,\n",
       " (('max_depth', 5), ('n_estimators', 5)): 0.9304347826086957,\n",
       " (('max_depth', 5), ('n_estimators', 10)): 0.9371980676328503,\n",
       " (('max_depth', 5), ('n_estimators', 20)): 0.9227053140096618,\n",
       " (('max_depth', 5), ('n_estimators', 30)): 0.9632850241545895,\n",
       " (('max_depth', 5), ('n_estimators', 50)): 0.9338164251207729,\n",
       " (('max_depth', 5), ('n_estimators', 100)): 0.929951690821256,\n",
       " (('max_depth', 7), ('n_estimators', 5)): 0.9521739130434782,\n",
       " (('max_depth', 7), ('n_estimators', 10)): 0.9227053140096618,\n",
       " (('max_depth', 7), ('n_estimators', 20)): 0.9227053140096618,\n",
       " (('max_depth', 7), ('n_estimators', 30)): 0.9449275362318841,\n",
       " (('max_depth', 7), ('n_estimators', 50)): 0.9338164251207729,\n",
       " (('max_depth', 7), ('n_estimators', 100)): 0.9227053140096618,\n",
       " (('max_depth', 10), ('n_estimators', 5)): 0.9594202898550726,\n",
       " (('max_depth', 10), ('n_estimators', 10)): 0.929951690821256,\n",
       " (('max_depth', 10), ('n_estimators', 20)): 0.9115942028985508,\n",
       " (('max_depth', 10), ('n_estimators', 30)): 0.9338164251207729,\n",
       " (('max_depth', 10), ('n_estimators', 50)): 0.9338164251207729,\n",
       " (('max_depth', 10), ('n_estimators', 100)): 0.9449275362318841}"
      ]
     },
     "execution_count": 308,
     "metadata": {},
     "output_type": "execute_result"
    }
   ],
   "source": [
    "%%time\n",
    "X = pd.read_csv('../datasets/cancer.csv')\n",
    "X, y = X.drop('label', axis=1), X['label']\n",
    "def GridSearchCV(clf, X, y, params):\n",
    "    keys = params.keys()\n",
    "    iters = product(*params.values())\n",
    "    \n",
    "    X_train, X_test, y_train, y_test = train_test_split(X, y, test_size=0.2)\n",
    "    scores = {}\n",
    "    for param in iters:\n",
    "        clf.__init__(**{key : value for key, value in zip(keys, param)})\n",
    "        clf.fit(X_train, y_train)\n",
    "        scores[tuple(zip(keys, param))] = roc_auc_score(clf.encoder.transform(y_test), clf.encoder.transform(clf.predict(X_test)))\n",
    "    return scores\n",
    "GridSearchCV(RandomForestClassifier(), X, y, {'max_depth' : [2, 3, 5, 7, 10], 'n_estimators' : [5, 10, 20, 30, 50, 100]})"
   ]
  },
  {
   "cell_type": "markdown",
   "metadata": {},
   "source": [
    "#### Возьму глубину 5, количество деревьев 100"
   ]
  },
  {
   "cell_type": "code",
   "execution_count": 3,
   "metadata": {},
   "outputs": [],
   "source": [
    "X = pd.read_csv('../datasets/cancer.csv')\n",
    "X, y = X.drop('label', axis=1), X['label']\n",
    "clf = RandomForestClassifier(max_depth=5, n_estimators=100)\n",
    "X_train, X_test, y_train, y_test = train_test_split(X, y, test_size=0.2)\n",
    "clf.fit(X_train, y_train)\n",
    "fpr, tpr, area = roc_curve(clf.encoder.transform(y_test), clf.encoder.transform(clf.predict(X_test)))"
   ]
  },
  {
   "cell_type": "code",
   "execution_count": 4,
   "metadata": {},
   "outputs": [
    {
     "data": {
      "image/png": "[encoded data removed]",
      "text/plain": [
       "<Figure size 432x288 with 1 Axes>"
      ]
     },
     "metadata": {
      "needs_background": "light"
     },
     "output_type": "display_data"
    }
   ],
   "source": [
    "plt.figure()\n",
    "lw = 2\n",
    "plt.plot(fpr, tpr, color='darkorange',\n",
    "         lw=lw, label='ROC curve (area = %0.2f)' % roc_auc_score(clf.encoder.transform(y_test), clf.encoder.transform(clf.predict(X_test)))) \n",
    "plt.plot([0, 1], [0, 1], color='navy', lw=lw, linestyle='--')\n",
    "plt.xlim([0.0, 1.0])\n",
    "plt.ylim([0.0, 1.0])\n",
    "plt.xlabel('False Positive Rate')\n",
    "plt.ylabel('True Positive Rate')\n",
    "plt.title('Receiver operating characteristic example')\n",
    "plt.legend(loc=\"lower right\")\n",
    "plt.show()"
   ]
  },
  {
   "cell_type": "code",
   "execution_count": 5,
   "metadata": {},
   "outputs": [
    {
     "name": "stdout",
     "output_type": "stream",
     "text": [
      "Importance: ('23', 0.0887043998407497) ('28', 0.05906358476708553) ('24', 0.058182213435269095) ('21', 0.05475898841256864) ('14', 0.03405248577409274) ('8', 0.03040990515522382) ('7', 0.029203565400705636) ('1', 0.027559456830735764) ('3', 0.02730757335049633) ('4', 0.026624208032503892) ('27', 0.02310078164791217) ('26', 0.01887832515738594) ('13', 0.016100790767041403) ('22', 0.016036033883161608) ('11', 0.01532454082003197) ('25', 0.01281426121072137) ('29', 0.012238764991181726) ('2', 0.01211537255222986) ('17', 0.011698621699076433) ('18', 0.011551055770657306) ('30', 0.011520610619905735) ('5', 0.011313337321116074) ('6', 0.01044860127202841) ('20', 0.010312222281836446) ('10', 0.010244648546206854) ('16', 0.01001475382855443) ('15', 0.009744584231159058) ('12', 0.009154626991061671) ('9', 0.009020074848030695) ('19', 0.009018142088408676)\n"
     ]
    }
   ],
   "source": [
    "print(\"Importance:\", *clf.feature_importance)"
   ]
  },
  {
   "cell_type": "code",
   "execution_count": 6,
   "metadata": {},
   "outputs": [],
   "source": [
    "X = pd.read_csv('../datasets/spam.csv')\n",
    "X, y = X.drop('label', axis=1), X['label']\n",
    "clf = RandomForestClassifier(max_depth=7, n_estimators=200)\n",
    "X_train, X_test, y_train, y_test = train_test_split(X, y, test_size=0.2)\n",
    "clf.fit(X_train, y_train)\n",
    "fpr, tpr, area = roc_curve(clf.encoder.transform(y_test), clf.encoder.transform(clf.predict(X_test)))"
   ]
  },
  {
   "cell_type": "code",
   "execution_count": 7,
   "metadata": {},
   "outputs": [
    {
     "data": {
      "image/png": "[encoded data removed]",
      "text/plain": [
       "<Figure size 432x288 with 1 Axes>"
      ]
     },
     "metadata": {
      "needs_background": "light"
     },
     "output_type": "display_data"
    }
   ],
   "source": [
    "plt.figure()\n",
    "lw = 2\n",
    "plt.plot(fpr, tpr, color='darkorange',\n",
    "         lw=lw, label='ROC curve (area = %0.2f)' % roc_auc_score(clf.encoder.transform(y_test), clf.encoder.transform(clf.predict(X_test)))) \n",
    "plt.plot([0, 1], [0, 1], color='navy', lw=lw, linestyle='--')\n",
    "plt.xlim([0.0, 1.0])\n",
    "plt.ylim([0.0, 1.0])\n",
    "plt.xlabel('False Positive Rate')\n",
    "plt.ylabel('True Positive Rate')\n",
    "plt.title('Receiver operating characteristic example')\n",
    "plt.legend(loc=\"lower right\")\n",
    "plt.show()"
   ]
  },
  {
   "cell_type": "code",
   "execution_count": 8,
   "metadata": {},
   "outputs": [
    {
     "name": "stdout",
     "output_type": "stream",
     "text": [
      "Importance: ('word_freq_remove', 0.04088932691189242) ('char_freq_!', 0.03934743872274725) ('char_freq_$', 0.0360767138711768) ('word_freq_hp', 0.03236289752805078) ('capital_run_length_longest', 0.027408486729215274) ('word_freq_free', 0.027227738298324877) ('capital_run_length_average', 0.023660313498819648) ('word_freq_your', 0.019903619440288664) ('capital_run_length_total', 0.019194230034735183) ('word_freq_george', 0.01844947166257954) ('word_freq_money', 0.016144454983302373) ('word_freq_our', 0.01423278647569683) ('word_freq_hpl', 0.013916958534270671) ('word_freq_000', 0.01351381417093168) ('word_freq_edu', 0.011215896875674309) ('word_freq_1999', 0.009232447233175579) ('word_freq_you', 0.008583710224904983) ('word_freq_receive', 0.008075737422681485) ('word_freq_business', 0.007967734185261845) ('word_freq_internet', 0.007846803597213323) ('word_freq_credit', 0.006858869104035863) ('word_freq_meeting', 0.006811076086567065) ('word_freq_labs', 0.006754200005510583) ('word_freq_re', 0.006351848319912086) ('word_freq_all', 0.006072186518248317) ('word_freq_over', 0.0058681266886449635) ('word_freq_650', 0.005853860004577138) ('word_freq_telnet', 0.005811982382700185) ('word_freq_will', 0.005691585599956881) ('word_freq_lab', 0.005675899590018536) ('word_freq_email', 0.005636974959242513) ('char_freq_(', 0.005620234161987967) ('word_freq_order', 0.005607379885355746) ('word_freq_85', 0.005478705775117383) ('word_freq_font', 0.0053644360926209415) ('word_freq_mail', 0.00536326157490763) ('word_freq_original', 0.0052001685188578835) ('word_freq_pm', 0.005128825361325198) ('word_freq_data', 0.005025818457911146) ('char_freq_[', 0.0049960831860607294) ('word_freq_cs', 0.004869794235543315) ('word_freq_address', 0.004845905262349452) ('word_freq_project', 0.004838682388669305) ('word_freq_technology', 0.004811680198861956) ('word_freq_conference', 0.004786219107151314) ('word_freq_make', 0.004780404176041983) ('word_freq_people', 0.0047741893377324625) ('char_freq_#', 0.0047640768882491235) ('char_freq_:', 0.00475393596171133) ('word_freq_415', 0.004739173041745141) ('word_freq_857', 0.0046793932851617055) ('word_freq_addresses', 0.004635956080855195) ('word_freq_3d', 0.004626057315980423) ('word_freq_direct', 0.004610360470646568) ('word_freq_report', 0.004603808731738828) ('word_freq_parts', 0.0044998893706948645) ('word_freq_table', 0.0044962477709549935)\n"
     ]
    }
   ],
   "source": [
    "print(\"Importance:\", *clf.feature_importance)"
   ]
  },
  {
   "cell_type": "markdown",
   "metadata": {},
   "source": [
    "### Задание 4 (3 балла)\n",
    "Часто хочется понимать, насколько большую роль играет тот или иной признак для предсказания класса объекта. Есть различные способы посчитать его важность. Один из простых способов сделать это для Random Forest выглядит так:\n",
    "1. Посчитать out-of-bag ошибку предсказания `err_oob` (https://en.wikipedia.org/wiki/Out-of-bag_error)\n",
    "2. Перемешать значения признака `j` у объектов выборки (у каждого из объектов изменится значение признака `j` на какой-то другой)\n",
    "3. Посчитать out-of-bag ошибку (`err_oob_j`) еще раз.\n",
    "4. Оценкой важности признака `j` для одного дерева будет разность `err_oob_j - err_oob`, важность для всего леса считается как среднее значение важности по деревьям.\n",
    "\n",
    "Реализуйте функцию `feature_importance`, которая принимает на вход Random Forest и возвращает массив, в котором содержится важность для каждого признака."
   ]
  },
  {
   "cell_type": "code",
   "execution_count": 9,
   "metadata": {},
   "outputs": [],
   "source": [
    "def most_important_features(importance, names, k=20):\n",
    "    # Выводит названия k самых важных признаков\n",
    "    idicies = np.argsort(importance)[::-1][:k]\n",
    "    return np.array(names)[idicies]"
   ]
  },
  {
   "cell_type": "markdown",
   "metadata": {},
   "source": [
    "Протестируйте решение на простом синтетическом наборе данных. В результате должна получиться точность `1.0`, наибольшее значение важности должно быть у признака с индексом `4`, признаки с индексами `2` и `3`  должны быть одинаково важны, а остальные признаки - не важны совсем."
   ]
  },
  {
   "cell_type": "code",
   "execution_count": 12,
   "metadata": {},
   "outputs": [
    {
     "name": "stdout",
     "output_type": "stream",
     "text": [
      "Accuracy: 1.0\n",
      "Importance: (4, 0.4021915296804534) (3, 0.22554211970155486) (2, 0.21934309485108716) (0, 0.01) (1, 0.01) (5, 0.01)\n"
     ]
    }
   ],
   "source": [
    "def synthetic_dataset(size):\n",
    "    X = [(np.random.randint(0, 2), np.random.randint(0, 2), i % 6 == 3, \n",
    "          i % 6 == 0, i % 3 == 2, np.random.randint(0, 2)) for i in range(size)]\n",
    "    y = [i % 3 for i in range(size)]\n",
    "    return np.array(X), np.array(y)\n",
    "\n",
    "X, y = synthetic_dataset(1000)\n",
    "rfc = RandomForestClassifier(n_estimators=100)\n",
    "rfc.fit(X, y)\n",
    "print(\"Accuracy:\", np.mean(rfc.predict(X) == y))\n",
    "print(\"Importance:\", *rfc.feature_importance)"
   ]
  },
  {
   "cell_type": "markdown",
   "metadata": {},
   "source": [
    "Проверьте, какие признаки важны для датасетов cancer и spam?"
   ]
  },
  {
   "cell_type": "markdown",
   "metadata": {},
   "source": [
    "### Задание 5 (1 балл)\n",
    "В качестве аьтернативы попробуем CatBoost. \n",
    "\n",
    "Туториалы можно найти, например, [здесь](https://catboost.ai/docs/) и [здесь](https://github.com/catboost/tutorials/blob/master/python_tutorial.ipynb).\n",
    "\n",
    "Также, как и реализованный ними RandomForest, примените его для наших датасетов."
   ]
  },
  {
   "cell_type": "code",
   "execution_count": 2,
   "metadata": {},
   "outputs": [
    {
     "name": "stdout",
     "output_type": "stream",
     "text": [
      "Accuracy: 0.9947275922671354\n"
     ]
    }
   ],
   "source": [
    "df = pd.read_csv('../datasets/cancer.csv')\n",
    "df.label = df.label.apply(lambda x: 0 if x == \"M\" else 1)\n",
    "X, y = df.drop('label', axis=1), df['label']\n",
    "X_train, X_test, y_train, y_test = train_test_split(X, y, test_size=0.2, random_state=42)\n",
    "clf = CatBoostClassifier(silent=True)\n",
    "clf.fit(X_train, y_train)\n",
    "print(\"Accuracy:\", np.mean(clf.predict(X) == y))"
   ]
  },
  {
   "cell_type": "code",
   "execution_count": 4,
   "metadata": {},
   "outputs": [
    {
     "data": {
      "text/plain": [
       "{'fit_time': array([8.63290524, 7.17264819, 6.16133451, 6.26814032, 7.21070743]),\n",
       " 'score_time': array([0.00604868, 0.00398827, 0.00299239, 0.0068531 , 0.00698209]),\n",
       " 'test_score': array([0.95652174, 0.95652174, 0.98230088, 0.97345133, 0.96460177])}"
      ]
     },
     "execution_count": 4,
     "metadata": {},
     "output_type": "execute_result"
    }
   ],
   "source": [
    "cross_validate(clf, X, y, cv=5)"
   ]
  }
 ],
 "metadata": {
  "kernelspec": {
   "display_name": "Python 3",
   "language": "python",
   "name": "python3"
  },
  "language_info": {
   "codemirror_mode": {
    "name": "ipython",
    "version": 3
   },
   "file_extension": ".py",
   "mimetype": "text/x-python",
   "name": "python",
   "nbconvert_exporter": "python",
   "pygments_lexer": "ipython3",
   "version": "3.7.4"
  }
 },
 "nbformat": 4,
 "nbformat_minor": 4
}
