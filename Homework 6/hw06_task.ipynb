{
  "nbformat": 4,
  "nbformat_minor": 0,
  "metadata": {
    "colab": {
      "name": "hw06_task.ipynb",
      "provenance": []
    },
    "kernelspec": {
      "display_name": "Python 3",
      "language": "python",
      "name": "python3"
    },
    "language_info": {
      "codemirror_mode": {
        "name": "ipython",
        "version": 3
      },
      "file_extension": ".py",
      "mimetype": "text/x-python",
      "name": "python",
      "nbconvert_exporter": "python",
      "pygments_lexer": "ipython3",
      "version": "3.7.4"
    }
  },
  "cells": [
    {
      "cell_type": "markdown",
      "metadata": {
        "colab_type": "text",
        "id": "CDbXmhG1DKYD"
      },
      "source": [
        "# Нейронные сети\n",
        "__Суммарное количество баллов: 10__\n",
        "\n",
        "В этом домашнем задании можно использовать готовые классы библиотек PyTorch, Keras, TensorFlow."
      ]
    },
    {
      "cell_type": "markdown",
      "metadata": {
        "colab_type": "text",
        "id": "b_V0dYVMDKYE"
      },
      "source": [
        "### Задание 1 (4 балла)\n",
        "\n",
        "Создайте сеть из трех сверточных слоев по 8 сверток 3х3 и двух полносвязных слоев по 64 нейрона. \n",
        "\n",
        "Обучите сеть на датасете mnist с тремя разными функциями активации в слоях (sigmoid, tanh, ReLU)."
      ]
    },
    {
      "cell_type": "code",
      "metadata": {
        "colab_type": "code",
        "id": "aQXYIc5fTn7s",
        "colab": {}
      },
      "source": [
        "import torch\n",
        "import random\n",
        "import numpy as np\n",
        "from PIL import Image\n",
        "from keras.utils import to_categorical\n",
        "import pandas as pd\n",
        "from sklearn.model_selection import train_test_split"
      ],
      "execution_count": 0,
      "outputs": []
    },
    {
      "cell_type": "code",
      "metadata": {
        "colab_type": "code",
        "id": "kFHhjyTKDKYG",
        "colab": {}
      },
      "source": [
        "df = pd.read_csv('mnist.csv').dropna()"
      ],
      "execution_count": 0,
      "outputs": []
    },
    {
      "cell_type": "code",
      "metadata": {
        "colab_type": "code",
        "id": "Q7koGlnUTOd_",
        "colab": {}
      },
      "source": [
        "X, y = df[df.columns[1:]], df['label']\n",
        "X_train, X_test, y_train, y_test = train_test_split(X, y)\n",
        "X_train, X_test, y_train, y_test = torch.Tensor(X_train.values), torch.Tensor(X_test.values), \\\n",
        "                                    torch.LongTensor(y_train.values), torch.LongTensor(y_test.values) "
      ],
      "execution_count": 0,
      "outputs": []
    },
    {
      "cell_type": "code",
      "metadata": {
        "colab_type": "code",
        "id": "jolsgFhUTPCq",
        "colab": {}
      },
      "source": [
        "X_train, X_test = X_train.reshape((X_train.shape[0], 28, 28)), X_test.reshape((X_test.shape[0], 28, 28))\n",
        "X_train = X_train.unsqueeze(1).float()\n",
        "X_test = X_test.unsqueeze(1).float()"
      ],
      "execution_count": 0,
      "outputs": []
    },
    {
      "cell_type": "code",
      "metadata": {
        "colab_type": "code",
        "id": "CRPtFHJoTSKq",
        "colab": {}
      },
      "source": [
        "class Flatten(torch.nn.Module):\n",
        "    def forward(self, x):\n",
        "        return x.view(x.size(0), -1)\n",
        "\n",
        "lenet1 = torch.nn.Sequential(\n",
        "    torch.nn.Conv2d(in_channels=1, out_channels=8, kernel_size=3, padding=1),\n",
        "    torch.nn.Sigmoid(),\n",
        "    torch.nn.Conv2d(in_channels=8, out_channels=8, kernel_size=3, padding=1),\n",
        "    torch.nn.Sigmoid(),\n",
        "    torch.nn.Conv2d(in_channels=8, out_channels=8, kernel_size=3, padding=1),\n",
        "    torch.nn.Sigmoid(),\n",
        "    Flatten(),\n",
        "    torch.nn.Linear(28 * 28 * 8, 64),\n",
        "    torch.nn.Tanh(),\n",
        "    torch.nn.Linear(64, 10),\n",
        ")\n",
        "\n",
        "lenet2 = torch.nn.Sequential(\n",
        "    torch.nn.Conv2d(in_channels=1, out_channels=8, kernel_size=3, padding=1),\n",
        "    torch.nn.Tanh(),\n",
        "    torch.nn.Conv2d(in_channels=8, out_channels=8, kernel_size=3, padding=1),\n",
        "    torch.nn.Tanh(),\n",
        "    torch.nn.Conv2d(in_channels=8, out_channels=8, kernel_size=3, padding=1),\n",
        "    torch.nn.Tanh(),\n",
        "    Flatten(),\n",
        "    torch.nn.Linear(28 * 28 * 8, 64),\n",
        "    torch.nn.Tanh(),\n",
        "    torch.nn.Linear(64, 10),\n",
        ")\n",
        "\n",
        "lenet3 = torch.nn.Sequential(\n",
        "    torch.nn.Conv2d(in_channels=1, out_channels=8, kernel_size=3, padding=1),\n",
        "    torch.nn.ReLU(),\n",
        "    torch.nn.Conv2d(in_channels=8, out_channels=8, kernel_size=3, padding=1),\n",
        "    torch.nn.ReLU(),\n",
        "    torch.nn.Conv2d(in_channels=8, out_channels=8, kernel_size=3, padding=1),\n",
        "    torch.nn.ReLU(),\n",
        "    Flatten(),\n",
        "    torch.nn.Linear(28 * 28 * 8, 64),\n",
        "    torch.nn.Tanh(),\n",
        "    torch.nn.Linear(64, 10),\n",
        ")"
      ],
      "execution_count": 0,
      "outputs": []
    },
    {
      "cell_type": "code",
      "metadata": {
        "colab_type": "code",
        "id": "Km0bmUAnTUef",
        "outputId": "8c663cde-78e0-4cf6-c845-30e2af3a1302",
        "colab": {
          "base_uri": "https://localhost:8080/",
          "height": 403
        }
      },
      "source": [
        "loss = torch.nn.CrossEntropyLoss()\n",
        "optimizer = torch.optim.Adam(lenet1.parameters(), lr=1.0e-3)\n",
        "print('Sigmoid')\n",
        "for epoch in range(30):\n",
        "  optimizer.zero_grad()\n",
        "  preds = lenet1.forward(X_train)\n",
        "  loss_value = loss(preds, y_train)\n",
        "  loss_value.backward()\n",
        "  optimizer.step()\n",
        "  if epoch % 5 == 0:\n",
        "    test_preds = lenet1.forward(X_test)\n",
        "    accuracy = (test_preds.argmax(dim=1) == y_test).float().mean().data.cpu()\n",
        "    print(f'Эпоха : {epoch}, Точность : {accuracy}')\n",
        "print('---------------------------------------------------------------- \\n Tanh')\n",
        "loss = torch.nn.CrossEntropyLoss()\n",
        "optimizer = torch.optim.Adam(lenet2.parameters(), lr=1.0e-3)\n",
        "for epoch in range(30):\n",
        "  optimizer.zero_grad()\n",
        "  preds = lenet2.forward(X_train)\n",
        "  loss_value = loss(preds, y_train)\n",
        "  loss_value.backward()\n",
        "  optimizer.step()\n",
        "  if epoch % 5 == 0:\n",
        "    test_preds = lenet2.forward(X_test)\n",
        "    accuracy = (test_preds.argmax(dim=1) == y_test).float().mean().data.cpu()\n",
        "    print(f'Эпоха : {epoch}, Точность : {accuracy}')\n",
        "print('---------------------------------------------------------------- \\n Relu')\n",
        "loss = torch.nn.CrossEntropyLoss()\n",
        "optimizer = torch.optim.Adam(lenet3.parameters(), lr=1.0e-3)\n",
        "for epoch in range(30):\n",
        "  optimizer.zero_grad()\n",
        "  preds = lenet3.forward(X_train)\n",
        "  loss_value = loss(preds, y_train)\n",
        "  loss_value.backward()\n",
        "  optimizer.step()\n",
        "  if epoch % 5 == 0:\n",
        "    test_preds = lenet3.forward(X_test)\n",
        "    accuracy = (test_preds.argmax(dim=1) == y_test).float().mean().data.cpu()\n",
        "    print(f'Эпоха : {epoch}, Точность : {accuracy}')"
      ],
      "execution_count": 9,
      "outputs": [
        {
          "output_type": "stream",
          "text": [
            "Sigmoid\n",
            "Эпоха : 0, Точность : 0.10440000146627426\n",
            "Эпоха : 5, Точность : 0.09319999814033508\n",
            "Эпоха : 10, Точность : 0.09319999814033508\n",
            "Эпоха : 15, Точность : 0.11879999935626984\n",
            "Эпоха : 20, Точность : 0.08799999952316284\n",
            "Эпоха : 25, Точность : 0.08799999952316284\n",
            "---------------------------------------------------------------- \n",
            " Tanh\n",
            "Эпоха : 0, Точность : 0.49559998512268066\n",
            "Эпоха : 5, Точность : 0.803600013256073\n",
            "Эпоха : 10, Точность : 0.8416000008583069\n",
            "Эпоха : 15, Точность : 0.8700000047683716\n",
            "Эпоха : 20, Точность : 0.8859999775886536\n",
            "Эпоха : 25, Точность : 0.8992000222206116\n",
            "---------------------------------------------------------------- \n",
            " Relu\n",
            "Эпоха : 0, Точность : 0.5027999877929688\n",
            "Эпоха : 5, Точность : 0.8155999779701233\n",
            "Эпоха : 10, Точность : 0.868399977684021\n",
            "Эпоха : 15, Точность : 0.8980000019073486\n",
            "Эпоха : 20, Точность : 0.9179999828338623\n",
            "Эпоха : 25, Точность : 0.9291999936103821\n"
          ],
          "name": "stdout"
        }
      ]
    },
    {
      "cell_type": "markdown",
      "metadata": {
        "colab_type": "text",
        "id": "vYRPTMr7DKYL"
      },
      "source": [
        "### Задание 2 (6 баллов)\n",
        "\n",
        "Достигните точности 87% на test датасете notMNIST.\n",
        "\n",
        "Архитектура сети может быть любая. Можно использовать Data Augmentation."
      ]
    },
    {
      "cell_type": "code",
      "metadata": {
        "colab_type": "code",
        "id": "MZ_Vscj4DKYM",
        "outputId": "a7ac82d8-b888-49ca-f6db-9b722c0c57b2",
        "colab": {
          "base_uri": "https://localhost:8080/",
          "height": 70
        }
      },
      "source": [
        "TEST_PATH = ''\n",
        "directory = 'notMNIST_small'\n",
        "\n",
        "X_test = []\n",
        "y_test = []\n",
        "# for each folder (holding a different set of letters)\n",
        "for directory in os.listdir('notMNIST_small'):\n",
        "    # for each image\n",
        "    for image in os.listdir('notMNIST_small/' + directory):\n",
        "        # open image and load array data\n",
        "        try:\n",
        "            file_path = 'notMNIST_small' + '/' + directory + '/' + image\n",
        "            img = Image.open(file_path)\n",
        "            img.load()\n",
        "            img_data = np.asarray(img, dtype=np.int16)\n",
        "            # add image to dataset\n",
        "            X_test.append(img_data)\n",
        "            # add label to labels\n",
        "            y_test.append(directory)\n",
        "        except Exception as f:\n",
        "            None # do nothing if couldn't load file\n",
        "            print(directory, f, image)\n",
        "            break\n",
        "N = len(X_test) # number of images\n",
        "img_size = len(X_test[0]) # width of image\n",
        "X_test = np.asarray(X_test).reshape(N, img_size, img_size,1) # add our single channel for processing purposes\n",
        "y_test_cat = to_categorical(list(map(lambda x: ord(x)-ord('A'), y_test)), 10) # convert to one-hot\n",
        "y_test = np.asarray(list(map(lambda x: ord(x)-ord('A'), y_test)))"
      ],
      "execution_count": 0,
      "outputs": [
        {
          "output_type": "stream",
          "text": [
            "F cannot identify image file 'notMNIST_small/F/Q3Jvc3NvdmVyIEJvbGRPYmxpcXVlLnR0Zg==.png' Q3Jvc3NvdmVyIEJvbGRPYmxpcXVlLnR0Zg==.png\n",
            "A cannot identify image file 'notMNIST_small/A/RGVtb2NyYXRpY2FCb2xkT2xkc3R5bGUgQm9sZC50dGY=.png' RGVtb2NyYXRpY2FCb2xkT2xkc3R5bGUgQm9sZC50dGY=.png\n"
          ],
          "name": "stdout"
        }
      ]
    },
    {
      "cell_type": "code",
      "metadata": {
        "colab_type": "code",
        "id": "bGKDs0qDdnaW",
        "colab": {}
      },
      "source": [
        "X, y = X_test, y_test\n",
        "X_train, X_test, y_train, y_test = train_test_split(X, y)"
      ],
      "execution_count": 0,
      "outputs": []
    },
    {
      "cell_type": "code",
      "metadata": {
        "colab_type": "code",
        "id": "e3Y_SZ11sBQD",
        "outputId": "d1c64f92-5dc4-41a3-bfd5-513100d6686c",
        "colab": {
          "base_uri": "https://localhost:8080/",
          "height": 101
        }
      },
      "source": [
        "loss = torch.nn.CrossEntropyLoss()\n",
        "optimizer = torch.optim.Adam(lenet5.parameters(), lr=1.0e-3)\n",
        "batch_size = 50\n",
        "\n",
        "test_accuracy_history = []\n",
        "test_loss_history = []\n",
        "\n",
        "X_test = X_test\n",
        "y_test = y_test\n",
        "\n",
        "for epoch in range(5):\n",
        "    order = np.random.permutation(len(X_train))\n",
        "    for start_index in range(0, len(X_train), batch_size):\n",
        "        optimizer.zero_grad()\n",
        "        \n",
        "        batch_indexes = order[start_index:start_index+batch_size]\n",
        "        \n",
        "        X_batch = X_train[batch_indexes]\n",
        "        y_batch = y_train[batch_indexes]\n",
        "        \n",
        "        preds = lenet5.forward(X_batch) \n",
        "        \n",
        "        loss_value = loss(preds, y_batch)\n",
        "        loss_value.backward()\n",
        "        \n",
        "        optimizer.step()\n",
        "        \n",
        "    test_preds = lenet5.forward(X_test)\n",
        "    test_loss_history.append(loss(test_preds, y_test))\n",
        "    \n",
        "    accuracy = (test_preds.argmax(dim=1) == y_test).float().mean()\n",
        "    test_accuracy_history.append(accuracy)\n",
        "    \n",
        "    print(accuracy)"
      ],
      "execution_count": 0,
      "outputs": [
        {
          "output_type": "stream",
          "text": [
            "tensor(0.9535)\n",
            "tensor(0.9628)\n",
            "tensor(0.9674)\n",
            "tensor(0.9721)\n",
            "tensor(0.9628)\n"
          ],
          "name": "stdout"
        }
      ]
    },
    {
      "cell_type": "code",
      "metadata": {
        "colab_type": "code",
        "id": "WC4fs6BUxeGv",
        "colab": {}
      },
      "source": [
        ""
      ],
      "execution_count": 0,
      "outputs": []
    }
  ]
}