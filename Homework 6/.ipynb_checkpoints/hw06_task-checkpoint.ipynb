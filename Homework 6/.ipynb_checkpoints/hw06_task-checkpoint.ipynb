{
 "cells": [
  {
   "cell_type": "markdown",
   "metadata": {
    "colab_type": "text",
    "id": "CDbXmhG1DKYD"
   },
   "source": [
    "# Нейронные сети\n",
    "__Суммарное количество баллов: 10__\n",
    "\n",
    "В этом домашнем задании можно использовать готовые классы библиотек PyTorch, Keras, TensorFlow."
   ]
  },
  {
   "cell_type": "markdown",
   "metadata": {
    "colab_type": "text",
    "id": "b_V0dYVMDKYE"
   },
   "source": [
    "### Задание 1 (4 балла)\n",
    "\n",
    "Создайте сеть из трех сверточных слоев по 8 сверток 3х3 и двух полносвязных слоев по 64 нейрона. \n",
    "\n",
    "Обучите сеть на датасете mnist с тремя разными функциями активации в слоях (sigmoid, tanh, ReLU)."
   ]
  },
  {
   "cell_type": "code",
   "execution_count": 72,
   "metadata": {
    "colab": {
     "base_uri": "https://localhost:8080/",
     "height": 34
    },
    "colab_type": "code",
    "id": "aQXYIc5fTn7s",
    "outputId": "3bee261d-df5e-40eb-df57-17d9042ad546"
   },
   "outputs": [
    {
     "name": "stderr",
     "output_type": "stream",
     "text": [
      "Using TensorFlow backend.\n"
     ]
    }
   ],
   "source": [
    "import torch\n",
    "import random\n",
    "import numpy as np\n",
    "from PIL import Image\n",
    "from keras.utils import to_categorical\n",
    "import pandas as pd\n",
    "from sklearn.model_selection import train_test_split"
   ]
  },
  {
   "cell_type": "code",
   "execution_count": 0,
   "metadata": {
    "colab": {},
    "colab_type": "code",
    "id": "kFHhjyTKDKYG"
   },
   "outputs": [],
   "source": [
    "df = pd.read_csv('mnist.csv').dropna()"
   ]
  },
  {
   "cell_type": "code",
   "execution_count": 0,
   "metadata": {
    "colab": {},
    "colab_type": "code",
    "id": "Q7koGlnUTOd_"
   },
   "outputs": [],
   "source": [
    "X, y = df[df.columns[1:]], df['label']\n",
    "X_train, X_test, y_train, y_test = train_test_split(X, y)\n",
    "X_train, X_test, y_train, y_test = torch.Tensor(X_train.values), torch.Tensor(X_test.values), \\\n",
    "                                    torch.LongTensor(y_train.values), torch.LongTensor(y_test.values) "
   ]
  },
  {
   "cell_type": "code",
   "execution_count": 0,
   "metadata": {
    "colab": {},
    "colab_type": "code",
    "id": "jolsgFhUTPCq"
   },
   "outputs": [],
   "source": [
    "X_train, X_test = X_train.reshape((X_train.shape[0], 28, 28)), X_test.reshape((X_test.shape[0], 28, 28))\n",
    "X_train = X_train.unsqueeze(1).float()\n",
    "X_test = X_test.unsqueeze(1).float()"
   ]
  },
  {
   "cell_type": "code",
   "execution_count": 0,
   "metadata": {
    "colab": {},
    "colab_type": "code",
    "id": "CRPtFHJoTSKq"
   },
   "outputs": [],
   "source": [
    "class Flatten(torch.nn.Module):\n",
    "    def forward(self, x):\n",
    "        return x.view(x.size(0), -1)\n",
    "\n",
    "lenet5 = torch.nn.Sequential(\n",
    "    torch.nn.Conv2d(in_channels=1, out_channels=8, kernel_size=3, padding=1),\n",
    "    torch.nn.Sigmoid(),\n",
    "    torch.nn.Conv2d(in_channels=8, out_channels=8, kernel_size=3, padding=1),\n",
    "    torch.nn.Tanh(),\n",
    "    torch.nn.Conv2d(in_channels=8, out_channels=8, kernel_size=3, padding=1),\n",
    "    torch.nn.ReLU(),\n",
    "    Flatten(),\n",
    "    torch.nn.Linear(28 * 28 * 8, 64),\n",
    "    torch.nn.Tanh(),\n",
    "    torch.nn.Linear(64, 10),\n",
    ")"
   ]
  },
  {
   "cell_type": "code",
   "execution_count": 0,
   "metadata": {
    "colab": {},
    "colab_type": "code",
    "id": "SHOBHwBHTT5E"
   },
   "outputs": [],
   "source": [
    "loss = torch.nn.CrossEntropyLoss()\n",
    "optimizer = torch.optim.Adam(lenet5.parameters(), lr=1.0e-3)"
   ]
  },
  {
   "cell_type": "code",
   "execution_count": 15,
   "metadata": {
    "colab": {
     "base_uri": "https://localhost:8080/",
     "height": 118
    },
    "colab_type": "code",
    "id": "Km0bmUAnTUef",
    "outputId": "c1cbcda7-7278-46ef-deeb-e6a095decfea"
   },
   "outputs": [
    {
     "name": "stdout",
     "output_type": "stream",
     "text": [
      "tensor(0.0846)\n",
      "tensor(0.5423)\n",
      "tensor(0.7519)\n",
      "tensor(0.7652)\n",
      "tensor(0.8182)\n",
      "tensor(0.8384)\n"
     ]
    }
   ],
   "source": [
    "for epoch in range(30):\n",
    "  optimizer.zero_grad()\n",
    "  preds = lenet5.forward(X_train)\n",
    "  loss_value = loss(preds, y_train)\n",
    "  loss_value.backward()\n",
    "  optimizer.step()\n",
    "  if epoch % 5 == 0:\n",
    "    test_preds = lenet5.forward(X_test)\n",
    "    accuracy = (test_preds.argmax(dim=1) == y_test).float().mean().data.cpu()\n",
    "    print(accuracy)"
   ]
  },
  {
   "cell_type": "markdown",
   "metadata": {
    "colab_type": "text",
    "id": "vYRPTMr7DKYL"
   },
   "source": [
    "### Задание 2 (6 баллов)\n",
    "\n",
    "Достигните точности 87% на test датасете notMNIST.\n",
    "\n",
    "Архитектура сети может быть любая. Можно использовать Data Augmentation."
   ]
  },
  {
   "cell_type": "code",
   "execution_count": 139,
   "metadata": {
    "colab": {
     "base_uri": "https://localhost:8080/",
     "height": 70
    },
    "colab_type": "code",
    "id": "MZ_Vscj4DKYM",
    "outputId": "a7ac82d8-b888-49ca-f6db-9b722c0c57b2"
   },
   "outputs": [
    {
     "name": "stdout",
     "output_type": "stream",
     "text": [
      "F cannot identify image file 'notMNIST_small/F/Q3Jvc3NvdmVyIEJvbGRPYmxpcXVlLnR0Zg==.png' Q3Jvc3NvdmVyIEJvbGRPYmxpcXVlLnR0Zg==.png\n",
      "A cannot identify image file 'notMNIST_small/A/RGVtb2NyYXRpY2FCb2xkT2xkc3R5bGUgQm9sZC50dGY=.png' RGVtb2NyYXRpY2FCb2xkT2xkc3R5bGUgQm9sZC50dGY=.png\n"
     ]
    }
   ],
   "source": [
    "TEST_PATH = ''\n",
    "directory = 'notMNIST_small'\n",
    "\n",
    "X_test = []\n",
    "y_test = []\n",
    "# for each folder (holding a different set of letters)\n",
    "for directory in os.listdir('notMNIST_small'):\n",
    "    # for each image\n",
    "    for image in os.listdir('notMNIST_small/' + directory):\n",
    "        # open image and load array data\n",
    "        try:\n",
    "            file_path = 'notMNIST_small' + '/' + directory + '/' + image\n",
    "            img = Image.open(file_path)\n",
    "            img.load()\n",
    "            img_data = np.asarray(img, dtype=np.int16)\n",
    "            # add image to dataset\n",
    "            X_test.append(img_data)\n",
    "            # add label to labels\n",
    "            y_test.append(directory)\n",
    "        except Exception as f:\n",
    "            None # do nothing if couldn't load file\n",
    "            print(directory, f, image)\n",
    "            break\n",
    "N = len(X_test) # number of images\n",
    "img_size = len(X_test[0]) # width of image\n",
    "X_test = np.asarray(X_test).reshape(N, img_size, img_size,1) # add our single channel for processing purposes\n",
    "y_test_cat = to_categorical(list(map(lambda x: ord(x)-ord('A'), y_test)), 10) # convert to one-hot\n",
    "y_test = np.asarray(list(map(lambda x: ord(x)-ord('A'), y_test)))"
   ]
  },
  {
   "cell_type": "code",
   "execution_count": 0,
   "metadata": {
    "colab": {},
    "colab_type": "code",
    "id": "bGKDs0qDdnaW"
   },
   "outputs": [],
   "source": [
    "X, y = X_test, y_test\n",
    "X_train, X_test, y_train, y_test = train_test_split(X, y)"
   ]
  },
  {
   "cell_type": "code",
   "execution_count": 173,
   "metadata": {
    "colab": {
     "base_uri": "https://localhost:8080/",
     "height": 101
    },
    "colab_type": "code",
    "id": "e3Y_SZ11sBQD",
    "outputId": "d1c64f92-5dc4-41a3-bfd5-513100d6686c"
   },
   "outputs": [
    {
     "name": "stdout",
     "output_type": "stream",
     "text": [
      "tensor(0.9535)\n",
      "tensor(0.9628)\n",
      "tensor(0.9674)\n",
      "tensor(0.9721)\n",
      "tensor(0.9628)\n"
     ]
    }
   ],
   "source": [
    "loss = torch.nn.CrossEntropyLoss()\n",
    "optimizer = torch.optim.Adam(lenet5.parameters(), lr=1.0e-3)\n",
    "batch_size = 50\n",
    "\n",
    "test_accuracy_history = []\n",
    "test_loss_history = []\n",
    "\n",
    "X_test = X_test\n",
    "y_test = y_test\n",
    "\n",
    "for epoch in range(5):\n",
    "    order = np.random.permutation(len(X_train))\n",
    "    for start_index in range(0, len(X_train), batch_size):\n",
    "        optimizer.zero_grad()\n",
    "        \n",
    "        batch_indexes = order[start_index:start_index+batch_size]\n",
    "        \n",
    "        X_batch = X_train[batch_indexes]\n",
    "        y_batch = y_train[batch_indexes]\n",
    "        \n",
    "        preds = lenet5.forward(X_batch) \n",
    "        \n",
    "        loss_value = loss(preds, y_batch)\n",
    "        loss_value.backward()\n",
    "        \n",
    "        optimizer.step()\n",
    "        \n",
    "    test_preds = lenet5.forward(X_test)\n",
    "    test_loss_history.append(loss(test_preds, y_test))\n",
    "    \n",
    "    accuracy = (test_preds.argmax(dim=1) == y_test).float().mean()\n",
    "    test_accuracy_history.append(accuracy)\n",
    "    \n",
    "    print(accuracy)"
   ]
  },
  {
   "cell_type": "code",
   "execution_count": 0,
   "metadata": {
    "colab": {},
    "colab_type": "code",
    "id": "WC4fs6BUxeGv"
   },
   "outputs": [],
   "source": []
  }
 ],
 "metadata": {
  "colab": {
   "name": "hw06_task.ipynb",
   "provenance": []
  },
  "kernelspec": {
   "display_name": "Python 3",
   "language": "python",
   "name": "python3"
  },
  "language_info": {
   "codemirror_mode": {
    "name": "ipython",
    "version": 3
   },
   "file_extension": ".py",
   "mimetype": "text/x-python",
   "name": "python",
   "nbconvert_exporter": "python",
   "pygments_lexer": "ipython3",
   "version": "3.7.4"
  }
 },
 "nbformat": 4,
 "nbformat_minor": 1
}
